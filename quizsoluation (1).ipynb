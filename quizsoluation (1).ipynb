{
 "cells": [
  {
   "cell_type": "code",
   "execution_count": 1,
   "id": "d8474a24-2bb4-468f-8bd1-280c0700b208",
   "metadata": {},
   "outputs": [],
   "source": [
    "import csv"
   ]
  },
  {
   "cell_type": "code",
   "execution_count": 2,
   "id": "dec32fa4-24ab-4974-8c66-8ef3b07f7e9e",
   "metadata": {},
   "outputs": [],
   "source": [
    "a=open('contact.csv','w',newline='')"
   ]
  },
  {
   "cell_type": "code",
   "execution_count": 3,
   "id": "2a03d8b2-8066-4a1a-9090-0c5afa41dfd6",
   "metadata": {},
   "outputs": [],
   "source": [
    "b=csv.writer(a)"
   ]
  },
  {
   "cell_type": "code",
   "execution_count": 4,
   "id": "d7e853d0-a704-4f4e-b327-9c41fb68ddb5",
   "metadata": {},
   "outputs": [],
   "source": [
    "header=[\"name\",\"contact\"]"
   ]
  },
  {
   "cell_type": "code",
   "execution_count": 5,
   "id": "53918544-ebd8-417b-8019-c1664bcdfbf6",
   "metadata": {},
   "outputs": [
    {
     "data": {
      "text/plain": [
       "14"
      ]
     },
     "execution_count": 5,
     "metadata": {},
     "output_type": "execute_result"
    }
   ],
   "source": [
    "b.writerow(header)"
   ]
  },
  {
   "cell_type": "code",
   "execution_count": 6,
   "id": "66d3b947-2a74-49e1-8f98-50152f8536ba",
   "metadata": {},
   "outputs": [],
   "source": [
    "row=[['bhavik',9876543210],\n",
    "     ['meet',9973645981],\n",
    "     ['dev',7654312345],\n",
    "     ['om',6573299120],\n",
    "    ['deep',9975632000]]"
   ]
  },
  {
   "cell_type": "code",
   "execution_count": 7,
   "id": "ac46f61f-5267-4df6-a4b4-0fdbe69f1b7d",
   "metadata": {},
   "outputs": [
    {
     "data": {
      "text/plain": [
       "115"
      ]
     },
     "execution_count": 7,
     "metadata": {},
     "output_type": "execute_result"
    }
   ],
   "source": [
    "b.writerow(row)"
   ]
  },
  {
   "cell_type": "code",
   "execution_count": 8,
   "id": "fc09cfb1-25c8-496f-8265-b43c0cf359c6",
   "metadata": {},
   "outputs": [],
   "source": [
    "a.close()"
   ]
  },
  {
   "cell_type": "code",
   "execution_count": 9,
   "id": "3572109b-2f49-4b51-be2b-ab4c0e4adfea",
   "metadata": {},
   "outputs": [],
   "source": [
    "f=open('contact.csv','r',newline='')"
   ]
  },
  {
   "cell_type": "code",
   "execution_count": 10,
   "id": "641d8336-b4cf-4354-b2de-a63b0b25d363",
   "metadata": {},
   "outputs": [],
   "source": [
    "read=csv.reader(f)"
   ]
  },
  {
   "cell_type": "code",
   "execution_count": 16,
   "id": "460d1998-2ea7-4c7f-b19c-50b31682fcd2",
   "metadata": {},
   "outputs": [
    {
     "name": "stdin",
     "output_type": "stream",
     "text": [
      "Enter a person name : bhavik\n"
     ]
    }
   ],
   "source": [
    "name = input(\"Enter a person name :\")\n",
    "for r in read:\n",
    "    if r[0]==name:\n",
    "        print(\"\\nName:{}\".format(r[0]))\n",
    "        print(\"contact:{}\".format(r[1]))"
   ]
  },
  {
   "cell_type": "code",
   "execution_count": null,
   "id": "c2c40d35-3ccd-4678-9b33-4e64264c21d6",
   "metadata": {},
   "outputs": [],
   "source": []
  }
 ],
 "metadata": {
  "kernelspec": {
   "display_name": "Python 3 (ipykernel)",
   "language": "python",
   "name": "python3"
  },
  "language_info": {
   "codemirror_mode": {
    "name": "ipython",
    "version": 3
   },
   "file_extension": ".py",
   "mimetype": "text/x-python",
   "name": "python",
   "nbconvert_exporter": "python",
   "pygments_lexer": "ipython3",
   "version": "3.9.6"
  }
 },
 "nbformat": 4,
 "nbformat_minor": 5
}
